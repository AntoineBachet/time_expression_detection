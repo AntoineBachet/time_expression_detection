{
 "cells": [
  {
   "cell_type": "markdown",
   "metadata": {},
   "source": [
    "### Import Libraries"
   ]
  },
  {
   "cell_type": "code",
   "execution_count": 14,
   "metadata": {},
   "outputs": [],
   "source": [
    "from collections import OrderedDict, Counter\n",
    "import torch\n",
    "import numpy as np\n",
    "import tensorboardX\n",
    "import dill as pickle"
   ]
  },
  {
   "cell_type": "code",
   "execution_count": 2,
   "metadata": {},
   "outputs": [],
   "source": [
    "import sys\n",
    "sys.path.append(\"sopa_master/\")"
   ]
  },
  {
   "cell_type": "code",
   "execution_count": 34,
   "metadata": {},
   "outputs": [],
   "source": [
    "from data import read_embeddings, read_docs, read_labels\n",
    "from soft_patterns import ProbSemiring, MaxPlusSemiring, LogSpaceMaxTimesSemiring, SoftPatternClassifier, train, Batch, evaluate_accuracy\n",
    "from util import to_cuda\n",
    "from interpret_classification_results import interpret_documents\n",
    "from visualize import visualize_patterns\n",
    "from baseline.pattern_extractor import train, Word, add_patterns, build_trie, lil_matrix"
   ]
  },
  {
   "cell_type": "markdown",
   "metadata": {},
   "source": [
    "### Files"
   ]
  },
  {
   "cell_type": "code",
   "execution_count": 8,
   "metadata": {},
   "outputs": [],
   "source": [
    "train_data_file = \"data/time_data_clean/train.data\"\n",
    "train_label_file =\"data/time_data_clean/train.labels\"\n",
    "dev_data_file = \"data/time_data_clean/dev.data\"\n",
    "dev_label_file = \"data/time_data_clean/dev.labels\"\n",
    "test_file = \"data/time_data_clean/test.data\"\n",
    "test_label=\"data/time_data_clean/test.labels\""
   ]
  },
  {
   "cell_type": "markdown",
   "metadata": {},
   "source": [
    "### Embeddings"
   ]
  },
  {
   "cell_type": "code",
   "execution_count": 9,
   "metadata": {},
   "outputs": [],
   "source": [
    "vocab = pickle.load(open(\"vocab.p\",\"rb\"))\n",
    "embeddings = pickle.load(open(\"embeddings.p\",\"rb\"))\n",
    "word_dim = pickle.load(open(\"word_dim.p\",\"rb\"))"
   ]
  },
  {
   "cell_type": "markdown",
   "metadata": {},
   "source": [
    "### Data Preprocessing"
   ]
  },
  {
   "cell_type": "code",
   "execution_count": 12,
   "metadata": {},
   "outputs": [],
   "source": [
    "with open(train_data_file, encoding=\"ISO-8859-1\") as ifh:\n",
    "        wordcount = Counter(ifh.read().split())"
   ]
  },
  {
   "cell_type": "code",
   "execution_count": 18,
   "metadata": {},
   "outputs": [],
   "source": [
    "sum = np.sum(list(wordcount.values()))\n",
    "wordcount = {k: float(wordcount[k])/int(sum) for k in wordcount.keys()}\n",
    "words = {k: Word(k, wordcount[k], 0.0001, 0.01) for k in wordcount.keys()}"
   ]
  },
  {
   "cell_type": "code",
   "execution_count": 20,
   "metadata": {},
   "outputs": [],
   "source": [
    "patterns = dict()\n",
    "\n",
    "with open(train_data_file, encoding='ISO-8859-1') as input_file:\n",
    "    train_docs = [line.rstrip().split() for line in input_file]\n",
    "\n",
    "with open(dev_data_file, encoding='ISO-8859-1') as input_file:\n",
    "    dev_docs = [line.rstrip().split() for line in input_file]\n",
    "\n",
    "with open(test_file, encoding='ISO-8859-1') as input_file:\n",
    "    test_docs = [line.rstrip().split() for line in input_file]"
   ]
  },
  {
   "cell_type": "code",
   "execution_count": 22,
   "metadata": {},
   "outputs": [],
   "source": [
    "train_labels = read_labels(train_label_file)\n",
    "dev_labels = read_labels(dev_label_file)\n",
    "test_labels = read_labels(test_label)"
   ]
  },
  {
   "cell_type": "code",
   "execution_count": 26,
   "metadata": {},
   "outputs": [],
   "source": [
    "for doc in train_docs:\n",
    "    add_patterns(doc, words, patterns, 6, True, 1)"
   ]
  },
  {
   "cell_type": "code",
   "execution_count": 27,
   "metadata": {},
   "outputs": [],
   "source": [
    "thr = 0.001*len(train_docs)"
   ]
  },
  {
   "cell_type": "code",
   "execution_count": 28,
   "metadata": {},
   "outputs": [],
   "source": [
    "patterns = {k: patterns[k] for k in patterns.keys() if patterns[k] >= thr}"
   ]
  },
  {
   "cell_type": "code",
   "execution_count": 30,
   "metadata": {},
   "outputs": [],
   "source": [
    "s = 0\n",
    "for p in patterns.keys():\n",
    "    p.set_freq(patterns[p])\n",
    "    s += patterns[p]"
   ]
  },
  {
   "cell_type": "code",
   "execution_count": 31,
   "metadata": {},
   "outputs": [],
   "source": [
    "pattern_keys = list(patterns.keys())"
   ]
  },
  {
   "cell_type": "code",
   "execution_count": 33,
   "metadata": {},
   "outputs": [],
   "source": [
    "trie = build_trie(pattern_keys)"
   ]
  },
  {
   "cell_type": "code",
   "execution_count": 35,
   "metadata": {},
   "outputs": [],
   "source": [
    "train_features = lil_matrix((len(train_docs), len(patterns)), dtype=np.int8)\n",
    "dev_features = lil_matrix((len(dev_docs), len(patterns)))\n",
    "test_features = lil_matrix((len(test_docs), len(patterns)))"
   ]
  },
  {
   "cell_type": "code",
   "execution_count": 36,
   "metadata": {},
   "outputs": [],
   "source": [
    "for (i, doc) in enumerate(train_docs):\n",
    "    add_patterns(doc, words, patterns, 6, True, 1, trie, train_features, i)\n",
    "\n",
    "for (i, doc) in enumerate(dev_docs):\n",
    "    add_patterns(doc, words, patterns, 6, True, 1, trie, dev_features, i)\n",
    "\n",
    "for (i, doc) in enumerate(test_docs):\n",
    "    add_patterns(doc, words, patterns, 6, True, 1, trie, test_features, i)"
   ]
  },
  {
   "cell_type": "markdown",
   "metadata": {},
   "source": [
    "### Classifier"
   ]
  },
  {
   "cell_type": "code",
   "execution_count": 37,
   "metadata": {},
   "outputs": [
    {
     "name": "stdout",
     "output_type": "stream",
     "text": [
      "Testing 1\n",
      "Train: 0.9935483870967742, dev: 0.8127147766323024\n",
      "Testing 0.5\n",
      "Train: 0.9853763440860215, dev: 0.8092783505154639\n",
      "Testing 0.1\n",
      "Train: 0.9113978494623656, dev: 0.7783505154639175\n",
      "Testing 0.05\n"
     ]
    },
    {
     "name": "stderr",
     "output_type": "stream",
     "text": [
      "/usr/local/lib/python3.6/site-packages/sklearn/linear_model/logistic.py:432: FutureWarning: Default solver will be changed to 'lbfgs' in 0.22. Specify a solver to silence this warning.\n",
      "  FutureWarning)\n"
     ]
    },
    {
     "name": "stdout",
     "output_type": "stream",
     "text": [
      "Train: 0.8576344086021506, dev: 0.7474226804123711\n",
      "Testing 0.01\n",
      "Train: 0.7281720430107527, dev: 0.6718213058419243\n",
      "Testing 0.005\n",
      "Train: 0.6946236559139785, dev: 0.6460481099656358\n",
      "Testing 0.001\n",
      "Train: 0.68, dev: 0.6460481099656358\n",
      "Num of params =  (7688,)\n"
     ]
    }
   ],
   "source": [
    "clf = train(train_features, train_labels, dev_features, dev_labels)"
   ]
  },
  {
   "cell_type": "markdown",
   "metadata": {},
   "source": [
    "### Results"
   ]
  },
  {
   "cell_type": "code",
   "execution_count": 38,
   "metadata": {},
   "outputs": [],
   "source": [
    "pred = clf.predict(test_features)"
   ]
  },
  {
   "cell_type": "code",
   "execution_count": 40,
   "metadata": {},
   "outputs": [
    {
     "data": {
      "text/plain": [
       "0.8321870701513068"
      ]
     },
     "execution_count": 40,
     "metadata": {},
     "output_type": "execute_result"
    }
   ],
   "source": [
    "(pred == test_labels).mean()"
   ]
  }
 ],
 "metadata": {
  "kernelspec": {
   "display_name": "Python 3",
   "language": "python",
   "name": "python3"
  },
  "language_info": {
   "codemirror_mode": {
    "name": "ipython",
    "version": 3
   },
   "file_extension": ".py",
   "mimetype": "text/x-python",
   "name": "python",
   "nbconvert_exporter": "python",
   "pygments_lexer": "ipython3",
   "version": "3.6.3"
  }
 },
 "nbformat": 4,
 "nbformat_minor": 4
}
