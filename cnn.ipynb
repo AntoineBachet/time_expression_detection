{
 "cells": [
  {
   "cell_type": "markdown",
   "metadata": {},
   "source": [
    "### Import Libraries"
   ]
  },
  {
   "cell_type": "code",
   "execution_count": 1,
   "metadata": {},
   "outputs": [],
   "source": [
    "from collections import OrderedDict\n",
    "import torch\n",
    "import tensorboardX\n",
    "import dill as pickle"
   ]
  },
  {
   "cell_type": "code",
   "execution_count": 2,
   "metadata": {},
   "outputs": [],
   "source": [
    "import sys\n",
    "sys.path.append(\"sopa_master/\")"
   ]
  },
  {
   "cell_type": "code",
   "execution_count": 3,
   "metadata": {},
   "outputs": [],
   "source": [
    "from data import read_embeddings, read_docs, read_labels\n",
    "from soft_patterns import ProbSemiring, MaxPlusSemiring, LogSpaceMaxTimesSemiring, SoftPatternClassifier, train, Batch, evaluate_model\n",
    "from util import to_cuda\n",
    "from interpret_classification_results import interpret_documents\n",
    "from visualize import visualize_patterns\n",
    "from baseline.cnn import PooledCnnClassifier"
   ]
  },
  {
   "cell_type": "markdown",
   "metadata": {},
   "source": [
    "### Files"
   ]
  },
  {
   "cell_type": "code",
   "execution_count": 4,
   "metadata": {},
   "outputs": [],
   "source": [
    "train_data_file = \"data/time_data_clean/train.data\"\n",
    "train_label_file =\"data/time_data_clean/train.labels\"\n",
    "dev_data_file = \"data/time_data_clean/dev.data\"\n",
    "dev_label_file = \"data/time_data_clean/dev.labels\"\n",
    "test_file = \"data/time_data_clean/test.data\"\n",
    "test_label=\"data/time_data_clean/test.labels\""
   ]
  },
  {
   "cell_type": "markdown",
   "metadata": {},
   "source": [
    "### Loading Embeddings"
   ]
  },
  {
   "cell_type": "code",
   "execution_count": 5,
   "metadata": {},
   "outputs": [],
   "source": [
    "vocab = pickle.load(open(\"vocab.p\",\"rb\"))\n",
    "embeddings = pickle.load(open(\"embeddings.p\",\"rb\"))\n",
    "word_dim = pickle.load(open(\"word_dim.p\",\"rb\"))"
   ]
  },
  {
   "cell_type": "markdown",
   "metadata": {},
   "source": [
    "# cnn"
   ]
  },
  {
   "cell_type": "code",
   "execution_count": 6,
   "metadata": {},
   "outputs": [
    {
     "name": "stdout",
     "output_type": "stream",
     "text": [
      "# params: 60582\n"
     ]
    }
   ],
   "source": [
    "model=PooledCnnClassifier(\n",
    "    window_size=4,\n",
    "    num_cnn_layers=1,\n",
    "    cnn_hidden_dim=50,\n",
    "    mlp_hidden_dim=10,\n",
    "    num_mlp_layers=2,\n",
    "    num_classes=2,\n",
    "    embeddings=embeddings\n",
    ")"
   ]
  },
  {
   "cell_type": "markdown",
   "metadata": {},
   "source": [
    "### Training"
   ]
  },
  {
   "cell_type": "code",
   "execution_count": 7,
   "metadata": {},
   "outputs": [],
   "source": [
    "train_input, train_text = read_docs(train_data_file, vocab, num_padding_tokens=3)\n",
    "train_labels = read_labels(train_label_file)\n",
    "dev_input, dev_text = read_docs(dev_data_file, vocab, num_padding_tokens=3)\n",
    "dev_labels = read_labels(dev_label_file)"
   ]
  },
  {
   "cell_type": "code",
   "execution_count": 8,
   "metadata": {},
   "outputs": [],
   "source": [
    "train_data = list(zip(train_input, train_labels))\n",
    "dev_data = list(zip(dev_input, dev_labels))"
   ]
  },
  {
   "cell_type": "code",
   "execution_count": 9,
   "metadata": {
    "collapsed": true,
    "jupyter": {
     "outputs_hidden": true
    }
   },
   "outputs": [
    {
     "name": "stdout",
     "output_type": "stream",
     "text": [
      ".."
     ]
    },
    {
     "name": "stderr",
     "output_type": "stream",
     "text": [
      "sopa_master/soft_patterns.py:502: UserWarning: Implicit dimension choice for log_softmax has been deprecated. Change the call to include dim=X as an argument.\n",
      "  log_softmax(output).view(batch.size(), num_classes),\n"
     ]
    },
    {
     "name": "stdout",
     "output_type": "stream",
     "text": [
      "..................\n",
      "\n",
      "num predicted 1s: 0\n",
      "num gold 1s:      334\n",
      "num predicted 1s: 1\n",
      "num gold 1s:      207\n",
      "iteration:       0 train time:     0.026m, eval time:     0.010m train loss:        0.656 train_acc:   66.600% dev loss:        0.627 dev_acc:   64.605%\n",
      "New best acc!\n",
      "New best dev!\n",
      "saving model to modeltimecnn/traintimecnn_0.pth\n",
      "....................\n",
      "\n",
      "num predicted 1s: 113\n",
      "num gold 1s:      325\n",
      "num predicted 1s: 79\n",
      "num gold 1s:      207\n",
      "iteration:       1 train time:     0.060m, eval time:     0.010m train loss:        0.586 train_acc:   77.800% dev loss:        0.544 dev_acc:   76.289%\n",
      "New best acc!\n",
      "New best dev!\n",
      "saving model to modeltimecnn/traintimecnn_1.pth\n",
      "....................\n",
      "\n",
      "num predicted 1s: 172\n",
      "num gold 1s:      321\n",
      "num predicted 1s: 119\n",
      "num gold 1s:      207\n",
      "iteration:       2 train time:     0.095m, eval time:     0.010m train loss:        0.452 train_acc:   84.300% dev loss:        0.435 dev_acc:   82.474%\n",
      "New best acc!\n",
      "New best dev!\n",
      "saving model to modeltimecnn/traintimecnn_2.pth\n",
      "....................\n",
      "\n",
      "num predicted 1s: 242\n",
      "num gold 1s:      309\n",
      "num predicted 1s: 163\n",
      "num gold 1s:      207\n",
      "iteration:       3 train time:     0.129m, eval time:     0.010m train loss:        0.349 train_acc:   89.100% dev loss:        0.360 dev_acc:   85.911%\n",
      "New best acc!\n",
      "New best dev!\n",
      "saving model to modeltimecnn/traintimecnn_3.pth\n",
      "....................\n",
      "\n",
      "num predicted 1s: 229\n",
      "num gold 1s:      317\n",
      "num predicted 1s: 158\n",
      "num gold 1s:      207\n",
      "iteration:       4 train time:     0.164m, eval time:     0.010m train loss:        0.303 train_acc:   88.600% dev loss:        0.345 dev_acc:   86.426%\n",
      "New best acc!\n",
      "New best dev!\n",
      "saving model to modeltimecnn/traintimecnn_4.pth\n",
      "....................\n",
      "\n",
      "num predicted 1s: 301\n",
      "num gold 1s:      330\n",
      "num predicted 1s: 178\n",
      "num gold 1s:      207\n",
      "iteration:       5 train time:     0.198m, eval time:     0.010m train loss:        0.236 train_acc:   94.500% dev loss:        0.321 dev_acc:   87.801%\n",
      "New best acc!\n",
      "New best dev!\n",
      "saving model to modeltimecnn/traintimecnn_5.pth\n",
      "....................\n",
      "\n",
      "num predicted 1s: 338\n",
      "num gold 1s:      318\n",
      "num predicted 1s: 238\n",
      "num gold 1s:      207\n",
      "iteration:       6 train time:     0.233m, eval time:     0.010m train loss:        0.187 train_acc:   95.800% dev loss:        0.359 dev_acc:   83.333%\n",
      "....................\n",
      "\n",
      "num predicted 1s: 322\n",
      "num gold 1s:      350\n",
      "num predicted 1s: 160\n",
      "num gold 1s:      207\n",
      "iteration:       7 train time:     0.268m, eval time:     0.010m train loss:        0.154 train_acc:   96.600% dev loss:        0.345 dev_acc:   87.801%\n",
      "....................\n",
      "\n",
      "num predicted 1s: 326\n",
      "num gold 1s:      334\n",
      "num predicted 1s: 178\n",
      "num gold 1s:      207\n",
      "iteration:       8 train time:     0.303m, eval time:     0.010m train loss:        0.122 train_acc:   98.400% dev loss:        0.328 dev_acc:   87.113%\n",
      "....................\n",
      "\n",
      "num predicted 1s: 320\n",
      "num gold 1s:      311\n",
      "num predicted 1s: 234\n",
      "num gold 1s:      207\n",
      "iteration:       9 train time:     0.337m, eval time:     0.010m train loss:        0.079 train_acc:   98.900% dev loss:        0.368 dev_acc:   85.395%\n",
      "....................\n",
      "\n",
      "num predicted 1s: 349\n",
      "num gold 1s:      350\n",
      "num predicted 1s: 183\n",
      "num gold 1s:      207\n",
      "iteration:      10 train time:     0.371m, eval time:     0.010m train loss:        0.056 train_acc:   99.700% dev loss:        0.359 dev_acc:   86.942%\n",
      "....................\n",
      "\n",
      "num predicted 1s: 327\n",
      "num gold 1s:      325\n",
      "num predicted 1s: 187\n",
      "num gold 1s:      207\n",
      "iteration:      11 train time:     0.405m, eval time:     0.010m train loss:        0.037 train_acc:   99.800% dev loss:        0.372 dev_acc:   86.942%\n",
      "....................\n",
      "\n",
      "num predicted 1s: 324\n",
      "num gold 1s:      324\n",
      "num predicted 1s: 194\n",
      "num gold 1s:      207\n",
      "iteration:      12 train time:     0.439m, eval time:     0.010m train loss:        0.030 train_acc:  100.000% dev loss:        0.381 dev_acc:   85.739%\n",
      "....................\n",
      "\n",
      "num predicted 1s: 335\n",
      "num gold 1s:      334\n",
      "num predicted 1s: 198\n",
      "num gold 1s:      207\n",
      "iteration:      13 train time:     0.473m, eval time:     0.010m train loss:        0.021 train_acc:   99.900% dev loss:        0.389 dev_acc:   85.739%\n",
      "....................\n",
      "\n",
      "num predicted 1s: 330\n",
      "num gold 1s:      329\n",
      "num predicted 1s: 182\n",
      "num gold 1s:      207\n",
      "iteration:      14 train time:     0.508m, eval time:     0.010m train loss:        0.018 train_acc:   99.900% dev loss:        0.413 dev_acc:   85.739%\n",
      "....................\n",
      "\n",
      "num predicted 1s: 330\n",
      "num gold 1s:      329\n",
      "num predicted 1s: 190\n",
      "num gold 1s:      207\n",
      "iteration:      15 train time:     0.542m, eval time:     0.010m train loss:        0.013 train_acc:   99.900% dev loss:        0.417 dev_acc:   85.739%\n",
      "....................\n",
      "\n",
      "num predicted 1s: 322\n",
      "num gold 1s:      322\n",
      "num predicted 1s: 192\n",
      "num gold 1s:      207\n",
      "iteration:      16 train time:     0.577m, eval time:     0.010m train loss:        0.010 train_acc:  100.000% dev loss:        0.425 dev_acc:   86.426%\n",
      "....................\n",
      "\n",
      "num predicted 1s: 306\n",
      "num gold 1s:      306\n",
      "num predicted 1s: 207\n",
      "num gold 1s:      207\n",
      "iteration:      17 train time:     0.610m, eval time:     0.010m train loss:        0.009 train_acc:  100.000% dev loss:        0.426 dev_acc:   85.567%\n",
      "....................\n",
      "\n",
      "num predicted 1s: 318\n",
      "num gold 1s:      318\n",
      "num predicted 1s: 201\n",
      "num gold 1s:      207\n",
      "iteration:      18 train time:     0.645m, eval time:     0.010m train loss:        0.007 train_acc:  100.000% dev loss:        0.431 dev_acc:   85.911%\n",
      "....................\n",
      "\n",
      "num predicted 1s: 299\n",
      "num gold 1s:      299\n",
      "num predicted 1s: 199\n",
      "num gold 1s:      207\n",
      "iteration:      19 train time:     0.680m, eval time:     0.010m train loss:        0.006 train_acc:  100.000% dev loss:        0.445 dev_acc:   86.598%\n",
      "....................\n",
      "\n",
      "num predicted 1s: 302\n",
      "num gold 1s:      302\n",
      "num predicted 1s: 219\n",
      "num gold 1s:      207\n",
      "iteration:      20 train time:     0.714m, eval time:     0.010m train loss:        0.006 train_acc:  100.000% dev loss:        0.456 dev_acc:   85.567%\n",
      "....................\n",
      "\n",
      "num predicted 1s: 330\n",
      "num gold 1s:      330\n",
      "num predicted 1s: 210\n",
      "num gold 1s:      207\n",
      "iteration:      21 train time:     0.750m, eval time:     0.010m train loss:        0.005 train_acc:  100.000% dev loss:        0.460 dev_acc:   86.082%\n",
      "....................\n",
      "\n",
      "num predicted 1s: 331\n",
      "num gold 1s:      331\n",
      "num predicted 1s: 190\n",
      "num gold 1s:      207\n",
      "iteration:      22 train time:     0.784m, eval time:     0.012m train loss:        0.003 train_acc:  100.000% dev loss:        0.478 dev_acc:   86.426%\n",
      "....................\n",
      "\n",
      "num predicted 1s: 316\n",
      "num gold 1s:      317\n",
      "num predicted 1s: 188\n",
      "num gold 1s:      207\n",
      "iteration:      23 train time:     0.821m, eval time:     0.010m train loss:        0.002 train_acc:   99.900% dev loss:        0.485 dev_acc:   86.770%\n",
      "....................\n",
      "\n",
      "num predicted 1s: 315\n",
      "num gold 1s:      315\n",
      "num predicted 1s: 204\n",
      "num gold 1s:      207\n",
      "iteration:      24 train time:     0.856m, eval time:     0.010m train loss:        0.003 train_acc:  100.000% dev loss:        0.490 dev_acc:   85.739%\n",
      "....................\n",
      "\n",
      "num predicted 1s: 330\n",
      "num gold 1s:      330\n",
      "num predicted 1s: 200\n",
      "num gold 1s:      207\n",
      "iteration:      25 train time:     0.890m, eval time:     0.010m train loss:        0.004 train_acc:  100.000% dev loss:        0.490 dev_acc:   86.082%\n",
      "....................\n",
      "\n",
      "num predicted 1s: 301\n",
      "num gold 1s:      301\n",
      "num predicted 1s: 190\n",
      "num gold 1s:      207\n",
      "iteration:      26 train time:     0.924m, eval time:     0.010m train loss:        0.004 train_acc:  100.000% dev loss:        0.516 dev_acc:   86.426%\n",
      "....................\n",
      "\n",
      "num predicted 1s: 313\n",
      "num gold 1s:      313\n",
      "num predicted 1s: 194\n",
      "num gold 1s:      207\n",
      "iteration:      27 train time:     0.959m, eval time:     0.010m train loss:        0.003 train_acc:  100.000% dev loss:        0.524 dev_acc:   86.082%\n",
      "....................\n",
      "\n",
      "num predicted 1s: 351\n",
      "num gold 1s:      351\n",
      "num predicted 1s: 215\n",
      "num gold 1s:      207\n",
      "iteration:      28 train time:     0.994m, eval time:     0.010m train loss:        0.003 train_acc:  100.000% dev loss:        0.530 dev_acc:   85.223%\n",
      "....................\n",
      "\n",
      "num predicted 1s: 333\n",
      "num gold 1s:      333\n",
      "num predicted 1s: 203\n",
      "num gold 1s:      207\n",
      "iteration:      29 train time:     1.028m, eval time:     0.010m train loss:        0.003 train_acc:  100.000% dev loss:        0.526 dev_acc:   85.223%\n",
      "....................\n",
      "\n",
      "num predicted 1s: 326\n",
      "num gold 1s:      326\n",
      "num predicted 1s: 189\n",
      "num gold 1s:      207\n",
      "iteration:      30 train time:     1.063m, eval time:     0.010m train loss:        0.003 train_acc:  100.000% dev loss:        0.562 dev_acc:   86.254%\n",
      "....................\n",
      "\n",
      "num predicted 1s: 327\n",
      "num gold 1s:      327\n",
      "num predicted 1s: 217\n",
      "num gold 1s:      207\n",
      "iteration:      31 train time:     1.098m, eval time:     0.010m train loss:        0.003 train_acc:  100.000% dev loss:        0.558 dev_acc:   85.223%\n",
      "....................\n",
      "\n",
      "num predicted 1s: 336\n",
      "num gold 1s:      336\n",
      "num predicted 1s: 215\n",
      "num gold 1s:      207\n",
      "iteration:      32 train time:     1.133m, eval time:     0.010m train loss:        0.002 train_acc:  100.000% dev loss:        0.570 dev_acc:   85.567%\n",
      "....................\n",
      "\n",
      "num predicted 1s: 314\n",
      "num gold 1s:      314\n",
      "num predicted 1s: 200\n",
      "num gold 1s:      207\n",
      "iteration:      33 train time:     1.168m, eval time:     0.010m train loss:        0.002 train_acc:  100.000% dev loss:        0.578 dev_acc:   85.395%\n",
      "....................\n",
      "\n",
      "num predicted 1s: 324\n",
      "num gold 1s:      324\n",
      "num predicted 1s: 215\n",
      "num gold 1s:      207\n",
      "iteration:      34 train time:     1.203m, eval time:     0.010m train loss:        0.002 train_acc:  100.000% dev loss:        0.576 dev_acc:   84.880%\n",
      "....................\n",
      "\n",
      "num predicted 1s: 308\n",
      "num gold 1s:      308\n",
      "num predicted 1s: 200\n",
      "num gold 1s:      207\n",
      "iteration:      35 train time:     1.237m, eval time:     0.010m train loss:        0.002 train_acc:  100.000% dev loss:        0.576 dev_acc:   85.739%\n",
      "Reached 30 iterations without improving dev loss. Breaking\n"
     ]
    },
    {
     "data": {
      "text/plain": [
       "PooledCnnClassifier(\n",
       "  (cnn): Cnn(\n",
       "    (cnn): Conv1d(300, 50, kernel_size=(4,), stride=(1,))\n",
       "  )\n",
       "  (mlp): MLP(\n",
       "    (layers): ModuleList(\n",
       "      (0): Linear(in_features=50, out_features=10, bias=True)\n",
       "      (1): Linear(in_features=10, out_features=2, bias=True)\n",
       "    )\n",
       "  )\n",
       ")"
      ]
     },
     "execution_count": 9,
     "metadata": {},
     "output_type": "execute_result"
    }
   ],
   "source": [
    "train(\n",
    "    train_data=train_data,\n",
    "    dev_data=dev_data,\n",
    "    model=model,\n",
    "    model_save_dir=\"data/models/modeltimecnn/\",\n",
    "    num_iterations=250,\n",
    "    model_file_prefix=\"traintimecnn\",\n",
    "    learning_rate=0.005,\n",
    "    batch_size=150,\n",
    "    num_classes=2,\n",
    "    patience=30,\n",
    "    gpu=False,\n",
    "    dropout=0.2\n",
    ")"
   ]
  },
  {
   "cell_type": "code",
   "execution_count": 10,
   "metadata": {},
   "outputs": [],
   "source": [
    "torch.save(model.state_dict(), \"data/models/modeltimecnn.pth\")"
   ]
  },
  {
   "cell_type": "markdown",
   "metadata": {},
   "source": [
    "### Forward"
   ]
  },
  {
   "cell_type": "code",
   "execution_count": 11,
   "metadata": {},
   "outputs": [],
   "source": [
    "test_input, test_text = read_docs(test_file, vocab, num_padding_tokens=3)\n",
    "labels=read_labels(test_label)"
   ]
  },
  {
   "cell_type": "code",
   "execution_count": 12,
   "metadata": {},
   "outputs": [],
   "source": [
    "test_data = list(zip(test_input, labels))"
   ]
  },
  {
   "cell_type": "code",
   "execution_count": 13,
   "metadata": {},
   "outputs": [
    {
     "name": "stdout",
     "output_type": "stream",
     "text": [
      "num predicted 1s: 221\n",
      "num gold 1s:      232\n"
     ]
    },
    {
     "data": {
      "text/plain": [
       "0.8858321870701513"
      ]
     },
     "execution_count": 13,
     "metadata": {},
     "output_type": "execute_result"
    }
   ],
   "source": [
    "evaluate_model(model, test_data, batch_size=150, gpu=False)"
   ]
  }
 ],
 "metadata": {
  "kernelspec": {
   "display_name": "Python 3",
   "language": "python",
   "name": "python3"
  },
  "language_info": {
   "codemirror_mode": {
    "name": "ipython",
    "version": 3
   },
   "file_extension": ".py",
   "mimetype": "text/x-python",
   "name": "python",
   "nbconvert_exporter": "python",
   "pygments_lexer": "ipython3",
   "version": "3.6.3"
  }
 },
 "nbformat": 4,
 "nbformat_minor": 4
}
