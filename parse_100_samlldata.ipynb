{
 "cells": [
  {
   "cell_type": "code",
   "execution_count": null,
   "metadata": {},
   "outputs": [],
   "source": [
    "from collections import OrderedDict\n",
    "import torch\n",
    "import numpy as np\n",
    "import dill as pickle\n",
    "from collections import Counter\n",
    "from data import read_embeddings, read_docs, read_labels\n",
    "from soft_patterns import ProbSemiring, MaxPlusSemiring, LogSpaceMaxTimesSemiring, SoftPatternClassifier, train, Batch, evaluate_accuracy\n",
    "from util import to_cuda\n",
    "from interpret_classification_results import interpret_documents\n",
    "from visualize import visualize_patterns\n",
    "import sys\n",
    "sys.path.append(\"sopa_master\")\n"
   ]
  },
  {
   "cell_type": "code",
   "execution_count": null,
   "metadata": {},
   "outputs": [],
   "source": [
    "train_data_file = \"data/time_data_clean/train.data\"\n",
    "train_label_file =\"data/time_data_clean/train.labels\"\n",
    "\n",
    "vocab = pickle.load(open(\"data/embeddings/vocab.p\",\"rb\"))\n",
    "embeddings = pickle.load(open(\"data/embeddings/embeddings.p\",\"rb\"))\n",
    "word_dim = pickle.load(open(\"data/embeddings/word_dim.p\",\"rb\"))\n",
    "\n",
    "train_input, train_text = read_docs(train_data_file, vocab, num_padding_tokens=0)\n",
    "train_labels = read_labels(train_label_file)\n",
    "\n",
    "small_data_pos=[idx for idx,label in enumerate(train_labels) if label ==1][:50]\n",
    "small_data_train=[[' '.join(text_),1] for _,text_ in enumerate(train_text) if _ in small_data_pos]\n",
    "\n",
    "small_data_neg=[idx for idx,label in enumerate(train_labels) if label ==0][:50]\n",
    "small_data_train.extend([[' '.join(text_),0] for _,text_ in enumerate(train_text) if _ in small_data_neg])\n",
    "import random\n",
    "random.shuffle(small_data_train)\n",
    "small_train,small_label=[t for t,l in small_data_train],[l for t,l in small_data_train]\n",
    "with open (\"data/time_data_clean/train_small.data\",'w') as fp:\n",
    "    fp.writelines(map(lambda line: line +'\\n',small_train))\n",
    "with open (\"data/time_data_clean/train_small.label\",'w') as fp:\n",
    "    fp.writelines(map(lambda line: str(line) +'\\n',small_label))\n"
   ]
  }
 ],
 "metadata": {
  "kernelspec": {
   "display_name": "Python 3",
   "language": "python",
   "name": "python3"
  },
  "language_info": {
   "codemirror_mode": {
    "name": "ipython",
    "version": 3
   },
   "file_extension": ".py",
   "mimetype": "text/x-python",
   "name": "python",
   "nbconvert_exporter": "python",
   "pygments_lexer": "ipython3",
   "version": "3.6.3"
  }
 },
 "nbformat": 4,
 "nbformat_minor": 2
}
